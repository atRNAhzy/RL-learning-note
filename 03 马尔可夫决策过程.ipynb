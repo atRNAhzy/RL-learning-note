{
 "cells": [
  {
   "cell_type": "markdown",
   "id": "e5440fa1",
   "metadata": {},
   "source": [
    "关于马尔科夫决策过程和贝克曼公式，贝克曼最优公式的推导和使用参考：[强化学习的数学原理](https://www.bilibili.com/video/BV1sd4y167NS?spm_id_from=333.788.videopod.episodes&vd_source=afcebd8a8957f7c00644d992cf4c88b4&p=2)\n",
    "\n",
    "讲的太好导致没有动力整理笔记（"
   ]
  },
  {
   "cell_type": "code",
   "execution_count": 4,
   "id": "e6576bf6",
   "metadata": {},
   "outputs": [
    {
     "name": "stdout",
     "output_type": "stream",
     "text": [
      "根据本序列计算得到回报为：-2.5\n"
     ]
    }
   ],
   "source": [
    "import numpy as np\n",
    "np.random.seed(0)\n",
    "\n",
    "P = [[0.9, 0.1, 0.0, 0.0, 0.0, 0.0],\n",
    "     [0.5, 0.0, 0.5, 0.0, 0.0, 0.0],\n",
    "     [0.0, 0.0, 0.0, 0.6, 0.0, 0.4],\n",
    "     [0.0, 0.0, 0.0, 0.0, 0.3, 0.7],\n",
    "     [0.0, 0.2, 0.3, 0.5, 0.0, 0.0],\n",
    "     [0.0, 0.0, 0.0, 0.0, 0.0, 1.0]]\n",
    "P = np.array(P)\n",
    "\n",
    "rewards = [-1, -2, -2, 10, 1, 0]\n",
    "gamma = 0.5\n",
    "\n",
    "def compute_return(start_index, chain, gamma):\n",
    "    G = 0 \n",
    "    for i in reversed(range(start_index, len(chain))):\n",
    "        G = gamma * G + rewards[chain[i] - 1]\n",
    "    return G\n",
    "\n",
    "chain = [1, 2, 3, 6]\n",
    "start_index = 0\n",
    "G = compute_return(start_index, chain, gamma)\n",
    "print(f\"根据本序列计算得到回报为：{G}\")"
   ]
  },
  {
   "cell_type": "code",
   "execution_count": 5,
   "id": "801e23b5",
   "metadata": {},
   "outputs": [
    {
     "name": "stdout",
     "output_type": "stream",
     "text": [
      "MRP中每个状态价值分别为\n",
      "[[-2.01950168]\n",
      " [-2.21451846]\n",
      " [ 1.16142785]\n",
      " [10.53809283]\n",
      " [ 3.58728554]\n",
      " [ 0.        ]]\n"
     ]
    }
   ],
   "source": [
    "def compute(P, rewards, gamma, states_num):\n",
    "    rewards = np.array(rewards).reshape((-1, 1))\n",
    "    value = np.dot(np.linalg.inv(np.eye(states_num, states_num) - gamma * P),\n",
    "                   rewards)\n",
    "    return value\n",
    "\n",
    "V = compute(P, rewards, gamma, 6)\n",
    "print(f\"MRP中每个状态价值分别为\\n{V}\")"
   ]
  },
  {
   "cell_type": "code",
   "execution_count": 6,
   "id": "504c36e2",
   "metadata": {},
   "outputs": [],
   "source": [
    "S = [\"s1\", \"s2\", \"s3\", \"s4\", \"s5\"]  # 状态集合\n",
    "A = [\"保持s1\", \"前往s1\", \"前往s2\", \"前往s3\", \"前往s4\", \"前往s5\", \"概率前往\"]  # 动作集合\n",
    "# 状态转移函数\n",
    "P = {\n",
    "    \"s1-保持s1-s1\": 1.0,\n",
    "    \"s1-前往s2-s2\": 1.0,\n",
    "    \"s2-前往s1-s1\": 1.0,\n",
    "    \"s2-前往s3-s3\": 1.0,\n",
    "    \"s3-前往s4-s4\": 1.0,\n",
    "    \"s3-前往s5-s5\": 1.0,\n",
    "    \"s4-前往s5-s5\": 1.0,\n",
    "    \"s4-概率前往-s2\": 0.2,\n",
    "    \"s4-概率前往-s3\": 0.4,\n",
    "    \"s4-概率前往-s4\": 0.4,\n",
    "}\n",
    "# 奖励函数\n",
    "R = {\n",
    "    \"s1-保持s1\": -1,\n",
    "    \"s1-前往s2\": 0,\n",
    "    \"s2-前往s1\": -1,\n",
    "    \"s2-前往s3\": -2,\n",
    "    \"s3-前往s4\": -2,\n",
    "    \"s3-前往s5\": 0,\n",
    "    \"s4-前往s5\": 10,\n",
    "    \"s4-概率前往\": 1,\n",
    "}\n",
    "gamma = 0.5  # 折扣因子\n",
    "MDP = (S, A, P, R, gamma)\n",
    "\n",
    "# 策略1,随机策略\n",
    "Pi_1 = {\n",
    "    \"s1-保持s1\": 0.5,\n",
    "    \"s1-前往s2\": 0.5,\n",
    "    \"s2-前往s1\": 0.5,\n",
    "    \"s2-前往s3\": 0.5,\n",
    "    \"s3-前往s4\": 0.5,\n",
    "    \"s3-前往s5\": 0.5,\n",
    "    \"s4-前往s5\": 0.5,\n",
    "    \"s4-概率前往\": 0.5,\n",
    "}\n",
    "# 策略2\n",
    "Pi_2 = {\n",
    "    \"s1-保持s1\": 0.6,\n",
    "    \"s1-前往s2\": 0.4,\n",
    "    \"s2-前往s1\": 0.3,\n",
    "    \"s2-前往s3\": 0.7,\n",
    "    \"s3-前往s4\": 0.5,\n",
    "    \"s3-前往s5\": 0.5,\n",
    "    \"s4-前往s5\": 0.1,\n",
    "    \"s4-概率前往\": 0.9,\n",
    "}\n",
    "\n",
    "\n",
    "# 把输入的两个字符串通过“-”连接,便于使用上述定义的P、R变量\n",
    "def join(str1, str2):\n",
    "    return str1 + '-' + str2"
   ]
  },
  {
   "cell_type": "code",
   "execution_count": 7,
   "id": "080cbc2e",
   "metadata": {},
   "outputs": [
    {
     "name": "stdout",
     "output_type": "stream",
     "text": [
      "根据策略1计算得到的MRP中每个状态价值分别为\n",
      "[[-1.22555411]\n",
      " [-1.67666232]\n",
      " [ 0.51890482]\n",
      " [ 6.0756193 ]\n",
      " [ 0.        ]]\n"
     ]
    }
   ],
   "source": [
    "gamma = 0.5\n",
    "# 转化后的MRP的状态转移矩阵\n",
    "P_from_mdp_to_mrp = [\n",
    "    [0.5, 0.5, 0.0, 0.0, 0.0],\n",
    "    [0.5, 0.0, 0.5, 0.0, 0.0],\n",
    "    [0.0, 0.0, 0.0, 0.5, 0.5],\n",
    "    [0.0, 0.1, 0.2, 0.2, 0.5],\n",
    "    [0.0, 0.0, 0.0, 0.0, 1.0],\n",
    "]\n",
    "\n",
    "P_from_mdp_to_mrp = np.array(P_from_mdp_to_mrp)\n",
    "R_from_mdp_to_mrp = [-0.5, -1.5, -1.0, 5.5, 0.0]\n",
    "V = compute(P_from_mdp_to_mrp, R_from_mdp_to_mrp, gamma, 5)\n",
    "print(f\"根据策略1计算得到的MRP中每个状态价值分别为\\n{V}\")"
   ]
  },
  {
   "cell_type": "markdown",
   "id": "a064521d",
   "metadata": {},
   "source": [
    "## 蒙特卡洛方法"
   ]
  },
  {
   "cell_type": "markdown",
   "id": "ae913183",
   "metadata": {},
   "source": [
    "在马尔科夫决策过程中，state value 其实就是从一个状态 s 出发，采取不同 action 后得到 return 的期望。\n",
    "\n",
    "$$V^\\pi(s)=\\mathbb{E}_\\pi[G_t|S_t=s]$$\n",
    "\n",
    "在使用 value iteration 或者 policy iteration 求解最优策略时，都需要我们知道模型的具体参数，即状态转移概率矩阵 P 和奖励函数 R。\n",
    "\n",
    "$$\\mathcal{V}=\\mathcal{R}+\\gamma\\mathcal{PV}$$\n",
    "\n",
    "但是在实际问题中，我们往往并不知道模型的结构，就比如在一个迷宫中我们只能看到自己眼前的一小块区域，并不知道整个迷宫的路线。所以我们需要一个 model free 的算法来估计 state value。\n",
    "\n",
    "这就是蒙特卡洛方法的核心：使用多次采样后求均值来估计 state value。\n",
    "$$V^\\pi(s)=\\mathbb{E}_\\pi[G_t|S_t=s]\\approx\\frac{1}{N}\\sum_{i=1}^NG_t^{(i)}$$"
   ]
  },
  {
   "cell_type": "markdown",
   "id": "9de53a7f",
   "metadata": {},
   "source": [
    "具体计算过程如下：\n",
    "\n",
    "(1) 随机指定一个初始策略 $\\pi$\n",
    "\n",
    "(2) 根据策略采样 $N$ 条序列\n",
    "\n",
    "$$s_0^{(i)}\\xrightarrow{a_0^{(i)}}r_0^{(i)},s_1^{(i)}\\xrightarrow{a_1^{(i)}}r_1^{(i)},s_2^{(i)}\\xrightarrow{a_2^{(i)}}\\cdots\\xrightarrow{a_{T-1}^{(i)}}r_{T-1}^{(i)},s_T^{(i)}$$\n",
    "\n",
    "(3) 对每一条序列中的每一个时间步 $t$ 的状态进行以下操作：\n",
    "- 更新状态$s$的计数器 $N(s)\\leftarrow N(s)+1$\n",
    "- 更新状态$s$的总回报 $M(s)\\leftarrow M(s)+G_t$\n",
    "\n",
    "(4) 每一个状态的 state value 被估计为回报的平均值 $V(s)=M(s)/N(s)$\n",
    "\n",
    "(5) 使用 $V(s)$ 估计新的策略 $\\pi$\n",
    "\n",
    "(6) 重复上述步骤，直到 $V(s)$ 收敛到指定值"
   ]
  },
  {
   "cell_type": "markdown",
   "id": "024ce916",
   "metadata": {},
   "source": [
    "接下来定义一个采样函数："
   ]
  },
  {
   "cell_type": "code",
   "execution_count": 14,
   "id": "2d837232",
   "metadata": {},
   "outputs": [
    {
     "name": "stdout",
     "output_type": "stream",
     "text": [
      "第一条序列\n",
      " [('s3', '前往s4', -2, 's4'), ('s4', '前往s5', 10, 's5')]\n",
      "第二条序列\n",
      " [('s3', '前往s5', 0, 's5')]\n",
      "第五条序列\n",
      " [('s3', '前往s4', -2, 's4'), ('s4', '概率前往', 1, 's2'), ('s2', '前往s3', -2, 's3'), ('s3', '前往s4', -2, 's4'), ('s4', '概率前往', 1, 's4'), ('s4', '前往s5', 10, 's5')]\n"
     ]
    }
   ],
   "source": [
    "def sample(MDP, Pi, timestep_max, number):\n",
    "    S, A, P, R, gamma = MDP\n",
    "    episodes = []\n",
    "    for _ in range(number):\n",
    "        episode = []\n",
    "        timestep = 0\n",
    "        s = S[np.random.randint(4)] # 随机选择初始状态\n",
    "        while s != \"s5\" and timestep <= timestep_max:\n",
    "            timestep += 1\n",
    "            rand, temp = np.random.rand(), 0\n",
    "            for a_opt in A:\n",
    "                temp += Pi.get(join(s, a_opt), 0)\n",
    "                if temp > rand:\n",
    "                    a = a_opt\n",
    "                    r = R.get(join(s, a), 0)\n",
    "                    break\n",
    "            rand, temp = np.random.rand(), 0\n",
    "            \n",
    "            # 根据状态转移概率得到下一个状态s_next\n",
    "            for s_opt in S:\n",
    "                temp += P.get(join(join(s, a), s_opt), 0)\n",
    "                if temp > rand:\n",
    "                    s_next = s_opt\n",
    "                    break\n",
    "            episode.append((s, a, r, s_next))\n",
    "            s = s_next\n",
    "        episodes.append(episode)\n",
    "    return episodes\n",
    "\n",
    "MDP = (S, A, P, R, gamma)\n",
    "\n",
    "episodes = sample(MDP, Pi_1, 20, 5)\n",
    "print('第一条序列\\n', episodes[0])\n",
    "print('第二条序列\\n', episodes[1])\n",
    "print('第五条序列\\n', episodes[4])"
   ]
  },
  {
   "cell_type": "code",
   "execution_count": 18,
   "id": "a62d2697",
   "metadata": {},
   "outputs": [
    {
     "name": "stdout",
     "output_type": "stream",
     "text": [
      "使用蒙特卡洛方法计算MDP的状态价值为\n",
      " {'s1': -1.2216331203480515, 's2': -1.7015842442548526, 's3': 0.4722391543181039, 's4': 6.012219554391401, 's5': 0}\n"
     ]
    }
   ],
   "source": [
    "# 对所有采样序列计算所有 state value\n",
    "def MC(dpisodes, V, N, gamma):\n",
    "    for episode in episodes:\n",
    "        G = 0\n",
    "        for i in range(len(episode) - 1, -1, -1):\n",
    "            (s, a, r, s_next) = episode[i]\n",
    "            G = gamma * G + r\n",
    "            N[s] += 1\n",
    "            V[s] += (G - V[s]) / N[s]\n",
    "\n",
    "timestep_max = 20\n",
    "episodes = sample(MDP, Pi_1, timestep_max, 1000)\n",
    "gamma = 0.5\n",
    "V = {\"s1\": 0, \"s2\": 0, \"s3\": 0, \"s4\": 0, \"s5\": 0}\n",
    "N = {\"s1\": 0, \"s2\": 0, \"s3\": 0, \"s4\": 0, \"s5\": 0}\n",
    "MC(episodes, V, N, gamma)\n",
    "print(\"使用蒙特卡洛方法计算MDP的状态价值为\\n\", V)"
   ]
  },
  {
   "cell_type": "markdown",
   "id": "e4259fd8",
   "metadata": {},
   "source": [
    "## 占用度量\n"
   ]
  },
  {
   "cell_type": "markdown",
   "id": "b6c4e615",
   "metadata": {},
   "source": [
    "占用度量用来描述在给定策略下，智能体在各个状态停留的\"频率\"或\"密度\"。\n",
    "$$\\rho^\\pi(s,a)=(1-\\gamma)\\sum_{t=0}^\\infty\\gamma^tP_t^\\pi(s)\\pi(a|s)$$"
   ]
  },
  {
   "cell_type": "code",
   "execution_count": 22,
   "id": "09b1151b",
   "metadata": {},
   "outputs": [
    {
     "name": "stdout",
     "output_type": "stream",
     "text": [
      "0.11227417176395682 0.24183443514107383\n"
     ]
    }
   ],
   "source": [
    "def occupancy(episodes, s, a, timestep_max, gamma):\n",
    "    rho = 0\n",
    "    total_times = np.zeros(timestep_max)  # 记录每个时间步t各被经历过几次\n",
    "    occur_times = np.zeros(timestep_max)  # 记录(s_t,a_t)=(s,a)的次数\n",
    "    for episode in episodes:\n",
    "        for i in range(len(episode)):\n",
    "            (s_opt, a_opt, r, s_next) = episode[i]\n",
    "            total_times[i] += 1\n",
    "            if s == s_opt and a == a_opt:\n",
    "                occur_times[i] += 1\n",
    "    for i in reversed(range(timestep_max)):\n",
    "        if total_times[i]:\n",
    "            rho += gamma**i * occur_times[i] / total_times[i]\n",
    "    return (1 - gamma) * rho\n",
    "\n",
    "\n",
    "gamma = 0.5\n",
    "timestep_max = 1000\n",
    "\n",
    "episodes_1 = sample(MDP, Pi_1, timestep_max, 1000)\n",
    "episodes_2 = sample(MDP, Pi_2, timestep_max, 1000)\n",
    "rho_1 = occupancy(episodes_1, \"s4\", \"概率前往\", timestep_max, gamma)\n",
    "rho_2 = occupancy(episodes_2, \"s4\", \"概率前往\", timestep_max, gamma)\n",
    "print(rho_1, rho_2)"
   ]
  }
 ],
 "metadata": {
  "kernelspec": {
   "display_name": "d2rl",
   "language": "python",
   "name": "python3"
  },
  "language_info": {
   "codemirror_mode": {
    "name": "ipython",
    "version": 3
   },
   "file_extension": ".py",
   "mimetype": "text/x-python",
   "name": "python",
   "nbconvert_exporter": "python",
   "pygments_lexer": "ipython3",
   "version": "3.9.23"
  }
 },
 "nbformat": 4,
 "nbformat_minor": 5
}
